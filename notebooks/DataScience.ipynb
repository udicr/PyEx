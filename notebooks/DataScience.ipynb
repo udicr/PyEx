{
 "cells": [
  {
   "cell_type": "markdown",
   "metadata": {
    "pycharm": {
     "name": "#%% md\n"
    }
   },
   "source": [
    "# Data Science with Python"
   ]
  },
  {
   "cell_type": "markdown",
   "source": [
    "Examples will include:\n",
    "\n",
    "• Basic Statistics\n",
    "\n",
    "• Linear Regression\n",
    "\n",
    "• Classification\n",
    "\n",
    "• Clustering Wines"
   ],
   "metadata": {
    "collapsed": false
   }
  },
  {
   "cell_type": "code",
   "execution_count": 1,
   "outputs": [],
   "source": [
    "import numpy as np\n",
    "import matplotlib.pyplot as plt\n",
    "import pandas as pd\n",
    "from sklearn.linear_model import LogisticRegression\n",
    "import seaborn as sns\n",
    "from matplotlib import gridspec\n",
    "%matplotlib inline"
   ],
   "metadata": {
    "collapsed": false,
    "pycharm": {
     "name": "#%%\n"
    }
   }
  },
  {
   "cell_type": "markdown",
   "source": [
    "##1. Understand your data"
   ],
   "metadata": {
    "collapsed": false
   }
  },
  {
   "cell_type": "code",
   "execution_count": 2,
   "outputs": [
    {
     "data": {
      "text/plain": "   fixed acidity  volatile acidity  citric acid  residual sugar  chlorides  \\\n0            7.4              0.70         0.00             1.9      0.076   \n1            7.8              0.88         0.00             2.6      0.098   \n2            7.8              0.76         0.04             2.3      0.092   \n\n   free sulfur dioxide  total sulfur dioxide  density    pH  sulphates  \\\n0                 11.0                  34.0   0.9978  3.51       0.56   \n1                 25.0                  67.0   0.9968  3.20       0.68   \n2                 15.0                  54.0   0.9970  3.26       0.65   \n\n   alcohol  quality  \n0      9.4        5  \n1      9.8        5  \n2      9.8        5  ",
      "text/html": "<div>\n<style scoped>\n    .dataframe tbody tr th:only-of-type {\n        vertical-align: middle;\n    }\n\n    .dataframe tbody tr th {\n        vertical-align: top;\n    }\n\n    .dataframe thead th {\n        text-align: right;\n    }\n</style>\n<table border=\"1\" class=\"dataframe\">\n  <thead>\n    <tr style=\"text-align: right;\">\n      <th></th>\n      <th>fixed acidity</th>\n      <th>volatile acidity</th>\n      <th>citric acid</th>\n      <th>residual sugar</th>\n      <th>chlorides</th>\n      <th>free sulfur dioxide</th>\n      <th>total sulfur dioxide</th>\n      <th>density</th>\n      <th>pH</th>\n      <th>sulphates</th>\n      <th>alcohol</th>\n      <th>quality</th>\n    </tr>\n  </thead>\n  <tbody>\n    <tr>\n      <th>0</th>\n      <td>7.4</td>\n      <td>0.70</td>\n      <td>0.00</td>\n      <td>1.9</td>\n      <td>0.076</td>\n      <td>11.0</td>\n      <td>34.0</td>\n      <td>0.9978</td>\n      <td>3.51</td>\n      <td>0.56</td>\n      <td>9.4</td>\n      <td>5</td>\n    </tr>\n    <tr>\n      <th>1</th>\n      <td>7.8</td>\n      <td>0.88</td>\n      <td>0.00</td>\n      <td>2.6</td>\n      <td>0.098</td>\n      <td>25.0</td>\n      <td>67.0</td>\n      <td>0.9968</td>\n      <td>3.20</td>\n      <td>0.68</td>\n      <td>9.8</td>\n      <td>5</td>\n    </tr>\n    <tr>\n      <th>2</th>\n      <td>7.8</td>\n      <td>0.76</td>\n      <td>0.04</td>\n      <td>2.3</td>\n      <td>0.092</td>\n      <td>15.0</td>\n      <td>54.0</td>\n      <td>0.9970</td>\n      <td>3.26</td>\n      <td>0.65</td>\n      <td>9.8</td>\n      <td>5</td>\n    </tr>\n  </tbody>\n</table>\n</div>"
     },
     "execution_count": 2,
     "metadata": {},
     "output_type": "execute_result"
    }
   ],
   "source": [
    "winequality_df = pd.read_csv('https://raw.githubusercontent.com/insaid2018/Term-1/master/Data/Projects/winequality.csv')\n",
    "winequality_df.head(3)"
   ],
   "metadata": {
    "collapsed": false,
    "pycharm": {
     "name": "#%%\n"
    }
   }
  },
  {
   "cell_type": "code",
   "execution_count": 3,
   "outputs": [
    {
     "name": "stdout",
     "output_type": "stream",
     "text": [
      "<class 'pandas.core.frame.DataFrame'>\n",
      "RangeIndex: 6497 entries, 0 to 6496\n",
      "Data columns (total 12 columns):\n",
      " #   Column                Non-Null Count  Dtype  \n",
      "---  ------                --------------  -----  \n",
      " 0   fixed acidity         6497 non-null   float64\n",
      " 1   volatile acidity      6497 non-null   float64\n",
      " 2   citric acid           6497 non-null   float64\n",
      " 3   residual sugar        6497 non-null   float64\n",
      " 4   chlorides             6497 non-null   float64\n",
      " 5   free sulfur dioxide   6497 non-null   float64\n",
      " 6   total sulfur dioxide  6497 non-null   float64\n",
      " 7   density               6497 non-null   float64\n",
      " 8   pH                    6497 non-null   float64\n",
      " 9   sulphates             6497 non-null   float64\n",
      " 10  alcohol               6497 non-null   float64\n",
      " 11  quality               6497 non-null   int64  \n",
      "dtypes: float64(11), int64(1)\n",
      "memory usage: 609.2 KB\n"
     ]
    }
   ],
   "source": [
    "winequality_df.info()"
   ],
   "metadata": {
    "collapsed": false,
    "pycharm": {
     "name": "#%%\n"
    }
   }
  },
  {
   "cell_type": "code",
   "execution_count": 4,
   "outputs": [
    {
     "data": {
      "text/plain": "       fixed acidity  volatile acidity  citric acid  residual sugar  \\\ncount    6497.000000       6497.000000  6497.000000     6497.000000   \nmean        7.215307          0.339666     0.318633        5.443235   \nstd         1.296434          0.164636     0.145318        4.757804   \nmin         3.800000          0.080000     0.000000        0.600000   \n25%         6.400000          0.230000     0.250000        1.800000   \n50%         7.000000          0.290000     0.310000        3.000000   \n75%         7.700000          0.400000     0.390000        8.100000   \nmax        15.900000          1.580000     1.660000       65.800000   \n\n         chlorides  free sulfur dioxide  total sulfur dioxide      density  \\\ncount  6497.000000          6497.000000           6497.000000  6497.000000   \nmean      0.056034            30.525319            115.744574     0.994697   \nstd       0.035034            17.749400             56.521855     0.002999   \nmin       0.009000             1.000000              6.000000     0.987110   \n25%       0.038000            17.000000             77.000000     0.992340   \n50%       0.047000            29.000000            118.000000     0.994890   \n75%       0.065000            41.000000            156.000000     0.996990   \nmax       0.611000           289.000000            440.000000     1.038980   \n\n                pH    sulphates      alcohol      quality  \ncount  6497.000000  6497.000000  6497.000000  6497.000000  \nmean      3.218501     0.531268    10.491801     5.818378  \nstd       0.160787     0.148806     1.192712     0.873255  \nmin       2.720000     0.220000     8.000000     3.000000  \n25%       3.110000     0.430000     9.500000     5.000000  \n50%       3.210000     0.510000    10.300000     6.000000  \n75%       3.320000     0.600000    11.300000     6.000000  \nmax       4.010000     2.000000    14.900000     9.000000  ",
      "text/html": "<div>\n<style scoped>\n    .dataframe tbody tr th:only-of-type {\n        vertical-align: middle;\n    }\n\n    .dataframe tbody tr th {\n        vertical-align: top;\n    }\n\n    .dataframe thead th {\n        text-align: right;\n    }\n</style>\n<table border=\"1\" class=\"dataframe\">\n  <thead>\n    <tr style=\"text-align: right;\">\n      <th></th>\n      <th>fixed acidity</th>\n      <th>volatile acidity</th>\n      <th>citric acid</th>\n      <th>residual sugar</th>\n      <th>chlorides</th>\n      <th>free sulfur dioxide</th>\n      <th>total sulfur dioxide</th>\n      <th>density</th>\n      <th>pH</th>\n      <th>sulphates</th>\n      <th>alcohol</th>\n      <th>quality</th>\n    </tr>\n  </thead>\n  <tbody>\n    <tr>\n      <th>count</th>\n      <td>6497.000000</td>\n      <td>6497.000000</td>\n      <td>6497.000000</td>\n      <td>6497.000000</td>\n      <td>6497.000000</td>\n      <td>6497.000000</td>\n      <td>6497.000000</td>\n      <td>6497.000000</td>\n      <td>6497.000000</td>\n      <td>6497.000000</td>\n      <td>6497.000000</td>\n      <td>6497.000000</td>\n    </tr>\n    <tr>\n      <th>mean</th>\n      <td>7.215307</td>\n      <td>0.339666</td>\n      <td>0.318633</td>\n      <td>5.443235</td>\n      <td>0.056034</td>\n      <td>30.525319</td>\n      <td>115.744574</td>\n      <td>0.994697</td>\n      <td>3.218501</td>\n      <td>0.531268</td>\n      <td>10.491801</td>\n      <td>5.818378</td>\n    </tr>\n    <tr>\n      <th>std</th>\n      <td>1.296434</td>\n      <td>0.164636</td>\n      <td>0.145318</td>\n      <td>4.757804</td>\n      <td>0.035034</td>\n      <td>17.749400</td>\n      <td>56.521855</td>\n      <td>0.002999</td>\n      <td>0.160787</td>\n      <td>0.148806</td>\n      <td>1.192712</td>\n      <td>0.873255</td>\n    </tr>\n    <tr>\n      <th>min</th>\n      <td>3.800000</td>\n      <td>0.080000</td>\n      <td>0.000000</td>\n      <td>0.600000</td>\n      <td>0.009000</td>\n      <td>1.000000</td>\n      <td>6.000000</td>\n      <td>0.987110</td>\n      <td>2.720000</td>\n      <td>0.220000</td>\n      <td>8.000000</td>\n      <td>3.000000</td>\n    </tr>\n    <tr>\n      <th>25%</th>\n      <td>6.400000</td>\n      <td>0.230000</td>\n      <td>0.250000</td>\n      <td>1.800000</td>\n      <td>0.038000</td>\n      <td>17.000000</td>\n      <td>77.000000</td>\n      <td>0.992340</td>\n      <td>3.110000</td>\n      <td>0.430000</td>\n      <td>9.500000</td>\n      <td>5.000000</td>\n    </tr>\n    <tr>\n      <th>50%</th>\n      <td>7.000000</td>\n      <td>0.290000</td>\n      <td>0.310000</td>\n      <td>3.000000</td>\n      <td>0.047000</td>\n      <td>29.000000</td>\n      <td>118.000000</td>\n      <td>0.994890</td>\n      <td>3.210000</td>\n      <td>0.510000</td>\n      <td>10.300000</td>\n      <td>6.000000</td>\n    </tr>\n    <tr>\n      <th>75%</th>\n      <td>7.700000</td>\n      <td>0.400000</td>\n      <td>0.390000</td>\n      <td>8.100000</td>\n      <td>0.065000</td>\n      <td>41.000000</td>\n      <td>156.000000</td>\n      <td>0.996990</td>\n      <td>3.320000</td>\n      <td>0.600000</td>\n      <td>11.300000</td>\n      <td>6.000000</td>\n    </tr>\n    <tr>\n      <th>max</th>\n      <td>15.900000</td>\n      <td>1.580000</td>\n      <td>1.660000</td>\n      <td>65.800000</td>\n      <td>0.611000</td>\n      <td>289.000000</td>\n      <td>440.000000</td>\n      <td>1.038980</td>\n      <td>4.010000</td>\n      <td>2.000000</td>\n      <td>14.900000</td>\n      <td>9.000000</td>\n    </tr>\n  </tbody>\n</table>\n</div>"
     },
     "execution_count": 4,
     "metadata": {},
     "output_type": "execute_result"
    }
   ],
   "source": [
    "winequality_df.describe()"
   ],
   "metadata": {
    "collapsed": false,
    "pycharm": {
     "name": "#%%\n"
    }
   }
  },
  {
   "cell_type": "markdown",
   "source": [
    "##2. First Insights and Visualizations"
   ],
   "metadata": {
    "collapsed": false
   }
  },
  {
   "cell_type": "code",
   "execution_count": 5,
   "outputs": [
    {
     "data": {
      "text/plain": "         fixed acidity  volatile acidity  citric acid  residual sugar  \\\nquality                                                                 \n3             7.853333          0.517000     0.281000        5.140000   \n4             7.288889          0.457963     0.272315        4.153704   \n5             7.326801          0.389614     0.307722        5.804116   \n6             7.177257          0.313863     0.323583        5.549753   \n7             7.128962          0.288800     0.334764        4.731696   \n8             6.835233          0.291010     0.332539        5.382902   \n9             7.420000          0.298000     0.386000        4.120000   \n\n         chlorides  free sulfur dioxide  total sulfur dioxide   density  \\\nquality                                                                   \n3         0.077033            39.216667            122.033333  0.995744   \n4         0.060056            20.636574            103.432870  0.994833   \n5         0.064666            30.237371            120.839102  0.995849   \n6         0.054157            31.165021            115.410790  0.994558   \n7         0.045272            30.422150            108.498610  0.993126   \n8         0.041124            34.533679            117.518135  0.992514   \n9         0.027400            33.400000            116.000000  0.991460   \n\n               pH  sulphates    alcohol  \nquality                                  \n3        3.257667   0.506333  10.215000  \n4        3.231620   0.505648  10.180093  \n5        3.212189   0.526403   9.837783  \n6        3.217726   0.532549  10.587553  \n7        3.228072   0.547025  11.386006  \n8        3.223212   0.512487  11.678756  \n9        3.308000   0.466000  12.180000  ",
      "text/html": "<div>\n<style scoped>\n    .dataframe tbody tr th:only-of-type {\n        vertical-align: middle;\n    }\n\n    .dataframe tbody tr th {\n        vertical-align: top;\n    }\n\n    .dataframe thead th {\n        text-align: right;\n    }\n</style>\n<table border=\"1\" class=\"dataframe\">\n  <thead>\n    <tr style=\"text-align: right;\">\n      <th></th>\n      <th>fixed acidity</th>\n      <th>volatile acidity</th>\n      <th>citric acid</th>\n      <th>residual sugar</th>\n      <th>chlorides</th>\n      <th>free sulfur dioxide</th>\n      <th>total sulfur dioxide</th>\n      <th>density</th>\n      <th>pH</th>\n      <th>sulphates</th>\n      <th>alcohol</th>\n    </tr>\n    <tr>\n      <th>quality</th>\n      <th></th>\n      <th></th>\n      <th></th>\n      <th></th>\n      <th></th>\n      <th></th>\n      <th></th>\n      <th></th>\n      <th></th>\n      <th></th>\n      <th></th>\n    </tr>\n  </thead>\n  <tbody>\n    <tr>\n      <th>3</th>\n      <td>7.853333</td>\n      <td>0.517000</td>\n      <td>0.281000</td>\n      <td>5.140000</td>\n      <td>0.077033</td>\n      <td>39.216667</td>\n      <td>122.033333</td>\n      <td>0.995744</td>\n      <td>3.257667</td>\n      <td>0.506333</td>\n      <td>10.215000</td>\n    </tr>\n    <tr>\n      <th>4</th>\n      <td>7.288889</td>\n      <td>0.457963</td>\n      <td>0.272315</td>\n      <td>4.153704</td>\n      <td>0.060056</td>\n      <td>20.636574</td>\n      <td>103.432870</td>\n      <td>0.994833</td>\n      <td>3.231620</td>\n      <td>0.505648</td>\n      <td>10.180093</td>\n    </tr>\n    <tr>\n      <th>5</th>\n      <td>7.326801</td>\n      <td>0.389614</td>\n      <td>0.307722</td>\n      <td>5.804116</td>\n      <td>0.064666</td>\n      <td>30.237371</td>\n      <td>120.839102</td>\n      <td>0.995849</td>\n      <td>3.212189</td>\n      <td>0.526403</td>\n      <td>9.837783</td>\n    </tr>\n    <tr>\n      <th>6</th>\n      <td>7.177257</td>\n      <td>0.313863</td>\n      <td>0.323583</td>\n      <td>5.549753</td>\n      <td>0.054157</td>\n      <td>31.165021</td>\n      <td>115.410790</td>\n      <td>0.994558</td>\n      <td>3.217726</td>\n      <td>0.532549</td>\n      <td>10.587553</td>\n    </tr>\n    <tr>\n      <th>7</th>\n      <td>7.128962</td>\n      <td>0.288800</td>\n      <td>0.334764</td>\n      <td>4.731696</td>\n      <td>0.045272</td>\n      <td>30.422150</td>\n      <td>108.498610</td>\n      <td>0.993126</td>\n      <td>3.228072</td>\n      <td>0.547025</td>\n      <td>11.386006</td>\n    </tr>\n    <tr>\n      <th>8</th>\n      <td>6.835233</td>\n      <td>0.291010</td>\n      <td>0.332539</td>\n      <td>5.382902</td>\n      <td>0.041124</td>\n      <td>34.533679</td>\n      <td>117.518135</td>\n      <td>0.992514</td>\n      <td>3.223212</td>\n      <td>0.512487</td>\n      <td>11.678756</td>\n    </tr>\n    <tr>\n      <th>9</th>\n      <td>7.420000</td>\n      <td>0.298000</td>\n      <td>0.386000</td>\n      <td>4.120000</td>\n      <td>0.027400</td>\n      <td>33.400000</td>\n      <td>116.000000</td>\n      <td>0.991460</td>\n      <td>3.308000</td>\n      <td>0.466000</td>\n      <td>12.180000</td>\n    </tr>\n  </tbody>\n</table>\n</div>"
     },
     "execution_count": 5,
     "metadata": {},
     "output_type": "execute_result"
    }
   ],
   "source": [
    "winequality_df.groupby('quality').mean()"
   ],
   "metadata": {
    "collapsed": false,
    "pycharm": {
     "name": "#%%\n"
    }
   }
  },
  {
   "cell_type": "code",
   "execution_count": 6,
   "outputs": [
    {
     "data": {
      "text/plain": "        citric acid           alcohol                 \n             median      mean     min       mean   max\nquality                                               \n3              0.33  0.281000     8.0  10.215000  12.6\n4              0.26  0.272315     8.4  10.180093  13.5\n5              0.30  0.307722     8.0   9.837783  14.9\n6              0.31  0.323583     8.4  10.587553  14.0\n7              0.32  0.334764     8.6  11.386006  14.2\n8              0.32  0.332539     8.5  11.678756  14.0\n9              0.36  0.386000    10.4  12.180000  12.9",
      "text/html": "<div>\n<style scoped>\n    .dataframe tbody tr th:only-of-type {\n        vertical-align: middle;\n    }\n\n    .dataframe tbody tr th {\n        vertical-align: top;\n    }\n\n    .dataframe thead tr th {\n        text-align: left;\n    }\n\n    .dataframe thead tr:last-of-type th {\n        text-align: right;\n    }\n</style>\n<table border=\"1\" class=\"dataframe\">\n  <thead>\n    <tr>\n      <th></th>\n      <th colspan=\"2\" halign=\"left\">citric acid</th>\n      <th colspan=\"3\" halign=\"left\">alcohol</th>\n    </tr>\n    <tr>\n      <th></th>\n      <th>median</th>\n      <th>mean</th>\n      <th>min</th>\n      <th>mean</th>\n      <th>max</th>\n    </tr>\n    <tr>\n      <th>quality</th>\n      <th></th>\n      <th></th>\n      <th></th>\n      <th></th>\n      <th></th>\n    </tr>\n  </thead>\n  <tbody>\n    <tr>\n      <th>3</th>\n      <td>0.33</td>\n      <td>0.281000</td>\n      <td>8.0</td>\n      <td>10.215000</td>\n      <td>12.6</td>\n    </tr>\n    <tr>\n      <th>4</th>\n      <td>0.26</td>\n      <td>0.272315</td>\n      <td>8.4</td>\n      <td>10.180093</td>\n      <td>13.5</td>\n    </tr>\n    <tr>\n      <th>5</th>\n      <td>0.30</td>\n      <td>0.307722</td>\n      <td>8.0</td>\n      <td>9.837783</td>\n      <td>14.9</td>\n    </tr>\n    <tr>\n      <th>6</th>\n      <td>0.31</td>\n      <td>0.323583</td>\n      <td>8.4</td>\n      <td>10.587553</td>\n      <td>14.0</td>\n    </tr>\n    <tr>\n      <th>7</th>\n      <td>0.32</td>\n      <td>0.334764</td>\n      <td>8.6</td>\n      <td>11.386006</td>\n      <td>14.2</td>\n    </tr>\n    <tr>\n      <th>8</th>\n      <td>0.32</td>\n      <td>0.332539</td>\n      <td>8.5</td>\n      <td>11.678756</td>\n      <td>14.0</td>\n    </tr>\n    <tr>\n      <th>9</th>\n      <td>0.36</td>\n      <td>0.386000</td>\n      <td>10.4</td>\n      <td>12.180000</td>\n      <td>12.9</td>\n    </tr>\n  </tbody>\n</table>\n</div>"
     },
     "execution_count": 6,
     "metadata": {},
     "output_type": "execute_result"
    }
   ],
   "source": [
    "winequality_df.groupby('quality').agg({'citric acid':[np.median,np.mean],'alcohol':[min,np.mean,max]})"
   ],
   "metadata": {
    "collapsed": false,
    "pycharm": {
     "name": "#%%\n"
    }
   }
  },
  {
   "cell_type": "code",
   "execution_count": 7,
   "outputs": [
    {
     "data": {
      "text/plain": "Text(0.5, 0, 'quality')"
     },
     "execution_count": 7,
     "metadata": {},
     "output_type": "execute_result"
    },
    {
     "data": {
      "text/plain": "<Figure size 432x288 with 4 Axes>",
      "image/png": "[encoded data removed]"
     },
     "metadata": {
      "needs_background": "light"
     },
     "output_type": "display_data"
    }
   ],
   "source": [
    "fig = plt.figure()\n",
    "gs = gridspec.GridSpec(2,2,hspace=0.5, wspace=0.5)\n",
    "\n",
    "ax0 = fig.add_subplot(gs[0])\n",
    "ax0.scatter(winequality_df['pH'],winequality_df['alcohol'])\n",
    "ax0.set_xlabel('pH')\n",
    "ax0.set_ylabel('quality')\n",
    "\n",
    "ax1 = fig.add_subplot(gs[1])\n",
    "ax1.hist(winequality_df['pH'])\n",
    "ax1.set_xlabel('pH')\n",
    "\n",
    "ax2 = fig.add_subplot(gs[2])\n",
    "ax2.boxplot(winequality_df['pH'])\n",
    "ax2.set_xlabel('pH')\n",
    "\n",
    "\n",
    "ax3 = fig.add_subplot(gs[3])\n",
    "quality_cnt = winequality_df['quality'].value_counts()\n",
    "quality_cnt.plot(kind='bar')\n",
    "ax3.set_xlabel('quality')"
   ],
   "metadata": {
    "collapsed": false,
    "pycharm": {
     "name": "#%%\n"
    }
   }
  },
  {
   "cell_type": "markdown",
   "source": [
    "##3. Linear regression\n",
    "\n",
    "In a first step we consider the correlation matrix to inspect"
   ],
   "metadata": {
    "collapsed": false
   }
  },
  {
   "cell_type": "code",
   "execution_count": 10,
   "outputs": [
    {
     "data": {
      "text/plain": "                      fixed acidity  volatile acidity  citric acid  \\\nfixed acidity                  1.00              0.22         0.32   \nvolatile acidity               0.22              1.00        -0.38   \ncitric acid                    0.32             -0.38         1.00   \nresidual sugar                -0.11             -0.20         0.14   \nchlorides                      0.30              0.38         0.04   \nfree sulfur dioxide           -0.28             -0.35         0.13   \ntotal sulfur dioxide          -0.33             -0.41         0.20   \ndensity                        0.46              0.27         0.10   \npH                            -0.25              0.26        -0.33   \nsulphates                      0.30              0.23         0.06   \nalcohol                       -0.10             -0.04        -0.01   \nquality                       -0.08             -0.27         0.09   \n\n                      residual sugar  chlorides  free sulfur dioxide  \\\nfixed acidity                  -0.11       0.30                -0.28   \nvolatile acidity               -0.20       0.38                -0.35   \ncitric acid                     0.14       0.04                 0.13   \nresidual sugar                  1.00      -0.13                 0.40   \nchlorides                      -0.13       1.00                -0.20   \nfree sulfur dioxide             0.40      -0.20                 1.00   \ntotal sulfur dioxide            0.50      -0.28                 0.72   \ndensity                         0.55       0.36                 0.03   \npH                             -0.27       0.04                -0.15   \nsulphates                      -0.19       0.40                -0.19   \nalcohol                        -0.36      -0.26                -0.18   \nquality                        -0.04      -0.20                 0.06   \n\n                      total sulfur dioxide  density    pH  sulphates  alcohol  \\\nfixed acidity                        -0.33     0.46 -0.25       0.30    -0.10   \nvolatile acidity                     -0.41     0.27  0.26       0.23    -0.04   \ncitric acid                           0.20     0.10 -0.33       0.06    -0.01   \nresidual sugar                        0.50     0.55 -0.27      -0.19    -0.36   \nchlorides                            -0.28     0.36  0.04       0.40    -0.26   \nfree sulfur dioxide                   0.72     0.03 -0.15      -0.19    -0.18   \ntotal sulfur dioxide                  1.00     0.03 -0.24      -0.28    -0.27   \ndensity                               0.03     1.00  0.01       0.26    -0.69   \npH                                   -0.24     0.01  1.00       0.19     0.12   \nsulphates                            -0.28     0.26  0.19       1.00    -0.00   \nalcohol                              -0.27    -0.69  0.12      -0.00     1.00   \nquality                              -0.04    -0.31  0.02       0.04     0.44   \n\n                      quality  \nfixed acidity           -0.08  \nvolatile acidity        -0.27  \ncitric acid              0.09  \nresidual sugar          -0.04  \nchlorides               -0.20  \nfree sulfur dioxide      0.06  \ntotal sulfur dioxide    -0.04  \ndensity                 -0.31  \npH                       0.02  \nsulphates                0.04  \nalcohol                  0.44  \nquality                  1.00  ",
      "text/html": "<div>\n<style scoped>\n    .dataframe tbody tr th:only-of-type {\n        vertical-align: middle;\n    }\n\n    .dataframe tbody tr th {\n        vertical-align: top;\n    }\n\n    .dataframe thead th {\n        text-align: right;\n    }\n</style>\n<table border=\"1\" class=\"dataframe\">\n  <thead>\n    <tr style=\"text-align: right;\">\n      <th></th>\n      <th>fixed acidity</th>\n      <th>volatile acidity</th>\n      <th>citric acid</th>\n      <th>residual sugar</th>\n      <th>chlorides</th>\n      <th>free sulfur dioxide</th>\n      <th>total sulfur dioxide</th>\n      <th>density</th>\n      <th>pH</th>\n      <th>sulphates</th>\n      <th>alcohol</th>\n      <th>quality</th>\n    </tr>\n  </thead>\n  <tbody>\n    <tr>\n      <th>fixed acidity</th>\n      <td>1.00</td>\n      <td>0.22</td>\n      <td>0.32</td>\n      <td>-0.11</td>\n      <td>0.30</td>\n      <td>-0.28</td>\n      <td>-0.33</td>\n      <td>0.46</td>\n      <td>-0.25</td>\n      <td>0.30</td>\n      <td>-0.10</td>\n      <td>-0.08</td>\n    </tr>\n    <tr>\n      <th>volatile acidity</th>\n      <td>0.22</td>\n      <td>1.00</td>\n      <td>-0.38</td>\n      <td>-0.20</td>\n      <td>0.38</td>\n      <td>-0.35</td>\n      <td>-0.41</td>\n      <td>0.27</td>\n      <td>0.26</td>\n      <td>0.23</td>\n      <td>-0.04</td>\n      <td>-0.27</td>\n    </tr>\n    <tr>\n      <th>citric acid</th>\n      <td>0.32</td>\n      <td>-0.38</td>\n      <td>1.00</td>\n      <td>0.14</td>\n      <td>0.04</td>\n      <td>0.13</td>\n      <td>0.20</td>\n      <td>0.10</td>\n      <td>-0.33</td>\n      <td>0.06</td>\n      <td>-0.01</td>\n      <td>0.09</td>\n    </tr>\n    <tr>\n      <th>residual sugar</th>\n      <td>-0.11</td>\n      <td>-0.20</td>\n      <td>0.14</td>\n      <td>1.00</td>\n      <td>-0.13</td>\n      <td>0.40</td>\n      <td>0.50</td>\n      <td>0.55</td>\n      <td>-0.27</td>\n      <td>-0.19</td>\n      <td>-0.36</td>\n      <td>-0.04</td>\n    </tr>\n    <tr>\n      <th>chlorides</th>\n      <td>0.30</td>\n      <td>0.38</td>\n      <td>0.04</td>\n      <td>-0.13</td>\n      <td>1.00</td>\n      <td>-0.20</td>\n      <td>-0.28</td>\n      <td>0.36</td>\n      <td>0.04</td>\n      <td>0.40</td>\n      <td>-0.26</td>\n      <td>-0.20</td>\n    </tr>\n    <tr>\n      <th>free sulfur dioxide</th>\n      <td>-0.28</td>\n      <td>-0.35</td>\n      <td>0.13</td>\n      <td>0.40</td>\n      <td>-0.20</td>\n      <td>1.00</td>\n      <td>0.72</td>\n      <td>0.03</td>\n      <td>-0.15</td>\n      <td>-0.19</td>\n      <td>-0.18</td>\n      <td>0.06</td>\n    </tr>\n    <tr>\n      <th>total sulfur dioxide</th>\n      <td>-0.33</td>\n      <td>-0.41</td>\n      <td>0.20</td>\n      <td>0.50</td>\n      <td>-0.28</td>\n      <td>0.72</td>\n      <td>1.00</td>\n      <td>0.03</td>\n      <td>-0.24</td>\n      <td>-0.28</td>\n      <td>-0.27</td>\n      <td>-0.04</td>\n    </tr>\n    <tr>\n      <th>density</th>\n      <td>0.46</td>\n      <td>0.27</td>\n      <td>0.10</td>\n      <td>0.55</td>\n      <td>0.36</td>\n      <td>0.03</td>\n      <td>0.03</td>\n      <td>1.00</td>\n      <td>0.01</td>\n      <td>0.26</td>\n      <td>-0.69</td>\n      <td>-0.31</td>\n    </tr>\n    <tr>\n      <th>pH</th>\n      <td>-0.25</td>\n      <td>0.26</td>\n      <td>-0.33</td>\n      <td>-0.27</td>\n      <td>0.04</td>\n      <td>-0.15</td>\n      <td>-0.24</td>\n      <td>0.01</td>\n      <td>1.00</td>\n      <td>0.19</td>\n      <td>0.12</td>\n      <td>0.02</td>\n    </tr>\n    <tr>\n      <th>sulphates</th>\n      <td>0.30</td>\n      <td>0.23</td>\n      <td>0.06</td>\n      <td>-0.19</td>\n      <td>0.40</td>\n      <td>-0.19</td>\n      <td>-0.28</td>\n      <td>0.26</td>\n      <td>0.19</td>\n      <td>1.00</td>\n      <td>-0.00</td>\n      <td>0.04</td>\n    </tr>\n    <tr>\n      <th>alcohol</th>\n      <td>-0.10</td>\n      <td>-0.04</td>\n      <td>-0.01</td>\n      <td>-0.36</td>\n      <td>-0.26</td>\n      <td>-0.18</td>\n      <td>-0.27</td>\n      <td>-0.69</td>\n      <td>0.12</td>\n      <td>-0.00</td>\n      <td>1.00</td>\n      <td>0.44</td>\n    </tr>\n    <tr>\n      <th>quality</th>\n      <td>-0.08</td>\n      <td>-0.27</td>\n      <td>0.09</td>\n      <td>-0.04</td>\n      <td>-0.20</td>\n      <td>0.06</td>\n      <td>-0.04</td>\n      <td>-0.31</td>\n      <td>0.02</td>\n      <td>0.04</td>\n      <td>0.44</td>\n      <td>1.00</td>\n    </tr>\n  </tbody>\n</table>\n</div>"
     },
     "execution_count": 10,
     "metadata": {},
     "output_type": "execute_result"
    }
   ],
   "source": [
    "corr_matrix = winequality_df.corr().round(2)\n",
    "corr_matrix\n"
   ],
   "metadata": {
    "collapsed": false,
    "pycharm": {
     "name": "#%%\n"
    }
   }
  },
  {
   "cell_type": "code",
   "execution_count": 17,
   "outputs": [
    {
     "data": {
      "text/plain": "<AxesSubplot:xlabel='alcohol', ylabel='quality'>"
     },
     "execution_count": 17,
     "metadata": {},
     "output_type": "execute_result"
    },
    {
     "data": {
      "text/plain": "<Figure size 432x288 with 1 Axes>",
      "image/png": "[encoded data removed]"
     },
     "metadata": {
      "needs_background": "light"
     },
     "output_type": "display_data"
    }
   ],
   "source": [
    "winequality_df.plot(kind = 'scatter', x = 'alcohol', y = 'quality')"
   ],
   "metadata": {
    "collapsed": false,
    "pycharm": {
     "name": "#%%\n"
    }
   }
  },
  {
   "cell_type": "code",
   "execution_count": 18,
   "outputs": [
    {
     "ename": "ValueError",
     "evalue": "Expected 2D array, got 1D array instead:\narray=[ 9.7  9.4  9.8 ... 10.2  9.   9. ].\nReshape your data either using array.reshape(-1, 1) if your data has a single feature or array.reshape(1, -1) if it contains a single sample.",
     "output_type": "error",
     "traceback": [
      "\u001B[0;31m---------------------------------------------------------------------------\u001B[0m",
      "\u001B[0;31mValueError\u001B[0m                                Traceback (most recent call last)",
      "\u001B[0;32m<ipython-input-18-779ca6cd85d0>\u001B[0m in \u001B[0;36m<module>\u001B[0;34m\u001B[0m\n\u001B[1;32m      7\u001B[0m \u001B[0;34m\u001B[0m\u001B[0m\n\u001B[1;32m      8\u001B[0m \u001B[0mmodel\u001B[0m \u001B[0;34m=\u001B[0m \u001B[0mLinearRegression\u001B[0m\u001B[0;34m(\u001B[0m\u001B[0;34m)\u001B[0m                        \u001B[0;31m#Instantiate\u001B[0m\u001B[0;34m\u001B[0m\u001B[0;34m\u001B[0m\u001B[0m\n\u001B[0;32m----> 9\u001B[0;31m \u001B[0mmodel\u001B[0m\u001B[0;34m.\u001B[0m\u001B[0mfit\u001B[0m\u001B[0;34m(\u001B[0m\u001B[0mX_train\u001B[0m\u001B[0;34m,\u001B[0m\u001B[0mY_train\u001B[0m\u001B[0;34m)\u001B[0m\u001B[0;34m\u001B[0m\u001B[0;34m\u001B[0m\u001B[0m\n\u001B[0m\u001B[1;32m     10\u001B[0m \u001B[0mi\u001B[0m \u001B[0;34m=\u001B[0m \u001B[0mmodel\u001B[0m\u001B[0;34m.\u001B[0m\u001B[0mintercept_\u001B[0m\u001B[0;34m.\u001B[0m\u001B[0mround\u001B[0m\u001B[0;34m(\u001B[0m\u001B[0;36m2\u001B[0m\u001B[0;34m)\u001B[0m\u001B[0;34m\u001B[0m\u001B[0;34m\u001B[0m\u001B[0m\n\u001B[1;32m     11\u001B[0m \u001B[0mc\u001B[0m \u001B[0;34m=\u001B[0m \u001B[0mmodel\u001B[0m\u001B[0;34m.\u001B[0m\u001B[0mcoef_\u001B[0m\u001B[0;34m.\u001B[0m\u001B[0mround\u001B[0m\u001B[0;34m(\u001B[0m\u001B[0;36m2\u001B[0m\u001B[0;34m)\u001B[0m\u001B[0;34m\u001B[0m\u001B[0;34m\u001B[0m\u001B[0m\n",
      "\u001B[0;32m~/.local/lib/python3.8/site-packages/sklearn/linear_model/_base.py\u001B[0m in \u001B[0;36mfit\u001B[0;34m(self, X, y, sample_weight)\u001B[0m\n\u001B[1;32m    503\u001B[0m \u001B[0;34m\u001B[0m\u001B[0m\n\u001B[1;32m    504\u001B[0m         \u001B[0mn_jobs_\u001B[0m \u001B[0;34m=\u001B[0m \u001B[0mself\u001B[0m\u001B[0;34m.\u001B[0m\u001B[0mn_jobs\u001B[0m\u001B[0;34m\u001B[0m\u001B[0;34m\u001B[0m\u001B[0m\n\u001B[0;32m--> 505\u001B[0;31m         X, y = self._validate_data(X, y, accept_sparse=['csr', 'csc', 'coo'],\n\u001B[0m\u001B[1;32m    506\u001B[0m                                    y_numeric=True, multi_output=True)\n\u001B[1;32m    507\u001B[0m \u001B[0;34m\u001B[0m\u001B[0m\n",
      "\u001B[0;32m~/.local/lib/python3.8/site-packages/sklearn/base.py\u001B[0m in \u001B[0;36m_validate_data\u001B[0;34m(self, X, y, reset, validate_separately, **check_params)\u001B[0m\n\u001B[1;32m    430\u001B[0m                 \u001B[0my\u001B[0m \u001B[0;34m=\u001B[0m \u001B[0mcheck_array\u001B[0m\u001B[0;34m(\u001B[0m\u001B[0my\u001B[0m\u001B[0;34m,\u001B[0m \u001B[0;34m**\u001B[0m\u001B[0mcheck_y_params\u001B[0m\u001B[0;34m)\u001B[0m\u001B[0;34m\u001B[0m\u001B[0;34m\u001B[0m\u001B[0m\n\u001B[1;32m    431\u001B[0m             \u001B[0;32melse\u001B[0m\u001B[0;34m:\u001B[0m\u001B[0;34m\u001B[0m\u001B[0;34m\u001B[0m\u001B[0m\n\u001B[0;32m--> 432\u001B[0;31m                 \u001B[0mX\u001B[0m\u001B[0;34m,\u001B[0m \u001B[0my\u001B[0m \u001B[0;34m=\u001B[0m \u001B[0mcheck_X_y\u001B[0m\u001B[0;34m(\u001B[0m\u001B[0mX\u001B[0m\u001B[0;34m,\u001B[0m \u001B[0my\u001B[0m\u001B[0;34m,\u001B[0m \u001B[0;34m**\u001B[0m\u001B[0mcheck_params\u001B[0m\u001B[0;34m)\u001B[0m\u001B[0;34m\u001B[0m\u001B[0;34m\u001B[0m\u001B[0m\n\u001B[0m\u001B[1;32m    433\u001B[0m             \u001B[0mout\u001B[0m \u001B[0;34m=\u001B[0m \u001B[0mX\u001B[0m\u001B[0;34m,\u001B[0m \u001B[0my\u001B[0m\u001B[0;34m\u001B[0m\u001B[0;34m\u001B[0m\u001B[0m\n\u001B[1;32m    434\u001B[0m \u001B[0;34m\u001B[0m\u001B[0m\n",
      "\u001B[0;32m~/.local/lib/python3.8/site-packages/sklearn/utils/validation.py\u001B[0m in \u001B[0;36minner_f\u001B[0;34m(*args, **kwargs)\u001B[0m\n\u001B[1;32m     70\u001B[0m                           FutureWarning)\n\u001B[1;32m     71\u001B[0m         \u001B[0mkwargs\u001B[0m\u001B[0;34m.\u001B[0m\u001B[0mupdate\u001B[0m\u001B[0;34m(\u001B[0m\u001B[0;34m{\u001B[0m\u001B[0mk\u001B[0m\u001B[0;34m:\u001B[0m \u001B[0marg\u001B[0m \u001B[0;32mfor\u001B[0m \u001B[0mk\u001B[0m\u001B[0;34m,\u001B[0m \u001B[0marg\u001B[0m \u001B[0;32min\u001B[0m \u001B[0mzip\u001B[0m\u001B[0;34m(\u001B[0m\u001B[0msig\u001B[0m\u001B[0;34m.\u001B[0m\u001B[0mparameters\u001B[0m\u001B[0;34m,\u001B[0m \u001B[0margs\u001B[0m\u001B[0;34m)\u001B[0m\u001B[0;34m}\u001B[0m\u001B[0;34m)\u001B[0m\u001B[0;34m\u001B[0m\u001B[0;34m\u001B[0m\u001B[0m\n\u001B[0;32m---> 72\u001B[0;31m         \u001B[0;32mreturn\u001B[0m \u001B[0mf\u001B[0m\u001B[0;34m(\u001B[0m\u001B[0;34m**\u001B[0m\u001B[0mkwargs\u001B[0m\u001B[0;34m)\u001B[0m\u001B[0;34m\u001B[0m\u001B[0;34m\u001B[0m\u001B[0m\n\u001B[0m\u001B[1;32m     73\u001B[0m     \u001B[0;32mreturn\u001B[0m \u001B[0minner_f\u001B[0m\u001B[0;34m\u001B[0m\u001B[0;34m\u001B[0m\u001B[0m\n\u001B[1;32m     74\u001B[0m \u001B[0;34m\u001B[0m\u001B[0m\n",
      "\u001B[0;32m~/.local/lib/python3.8/site-packages/sklearn/utils/validation.py\u001B[0m in \u001B[0;36mcheck_X_y\u001B[0;34m(X, y, accept_sparse, accept_large_sparse, dtype, order, copy, force_all_finite, ensure_2d, allow_nd, multi_output, ensure_min_samples, ensure_min_features, y_numeric, estimator)\u001B[0m\n\u001B[1;32m    793\u001B[0m         \u001B[0;32mraise\u001B[0m \u001B[0mValueError\u001B[0m\u001B[0;34m(\u001B[0m\u001B[0;34m\"y cannot be None\"\u001B[0m\u001B[0;34m)\u001B[0m\u001B[0;34m\u001B[0m\u001B[0;34m\u001B[0m\u001B[0m\n\u001B[1;32m    794\u001B[0m \u001B[0;34m\u001B[0m\u001B[0m\n\u001B[0;32m--> 795\u001B[0;31m     X = check_array(X, accept_sparse=accept_sparse,\n\u001B[0m\u001B[1;32m    796\u001B[0m                     \u001B[0maccept_large_sparse\u001B[0m\u001B[0;34m=\u001B[0m\u001B[0maccept_large_sparse\u001B[0m\u001B[0;34m,\u001B[0m\u001B[0;34m\u001B[0m\u001B[0;34m\u001B[0m\u001B[0m\n\u001B[1;32m    797\u001B[0m                     \u001B[0mdtype\u001B[0m\u001B[0;34m=\u001B[0m\u001B[0mdtype\u001B[0m\u001B[0;34m,\u001B[0m \u001B[0morder\u001B[0m\u001B[0;34m=\u001B[0m\u001B[0morder\u001B[0m\u001B[0;34m,\u001B[0m \u001B[0mcopy\u001B[0m\u001B[0;34m=\u001B[0m\u001B[0mcopy\u001B[0m\u001B[0;34m,\u001B[0m\u001B[0;34m\u001B[0m\u001B[0;34m\u001B[0m\u001B[0m\n",
      "\u001B[0;32m~/.local/lib/python3.8/site-packages/sklearn/utils/validation.py\u001B[0m in \u001B[0;36minner_f\u001B[0;34m(*args, **kwargs)\u001B[0m\n\u001B[1;32m     70\u001B[0m                           FutureWarning)\n\u001B[1;32m     71\u001B[0m         \u001B[0mkwargs\u001B[0m\u001B[0;34m.\u001B[0m\u001B[0mupdate\u001B[0m\u001B[0;34m(\u001B[0m\u001B[0;34m{\u001B[0m\u001B[0mk\u001B[0m\u001B[0;34m:\u001B[0m \u001B[0marg\u001B[0m \u001B[0;32mfor\u001B[0m \u001B[0mk\u001B[0m\u001B[0;34m,\u001B[0m \u001B[0marg\u001B[0m \u001B[0;32min\u001B[0m \u001B[0mzip\u001B[0m\u001B[0;34m(\u001B[0m\u001B[0msig\u001B[0m\u001B[0;34m.\u001B[0m\u001B[0mparameters\u001B[0m\u001B[0;34m,\u001B[0m \u001B[0margs\u001B[0m\u001B[0;34m)\u001B[0m\u001B[0;34m}\u001B[0m\u001B[0;34m)\u001B[0m\u001B[0;34m\u001B[0m\u001B[0;34m\u001B[0m\u001B[0m\n\u001B[0;32m---> 72\u001B[0;31m         \u001B[0;32mreturn\u001B[0m \u001B[0mf\u001B[0m\u001B[0;34m(\u001B[0m\u001B[0;34m**\u001B[0m\u001B[0mkwargs\u001B[0m\u001B[0;34m)\u001B[0m\u001B[0;34m\u001B[0m\u001B[0;34m\u001B[0m\u001B[0m\n\u001B[0m\u001B[1;32m     73\u001B[0m     \u001B[0;32mreturn\u001B[0m \u001B[0minner_f\u001B[0m\u001B[0;34m\u001B[0m\u001B[0;34m\u001B[0m\u001B[0m\n\u001B[1;32m     74\u001B[0m \u001B[0;34m\u001B[0m\u001B[0m\n",
      "\u001B[0;32m~/.local/lib/python3.8/site-packages/sklearn/utils/validation.py\u001B[0m in \u001B[0;36mcheck_array\u001B[0;34m(array, accept_sparse, accept_large_sparse, dtype, order, copy, force_all_finite, ensure_2d, allow_nd, ensure_min_samples, ensure_min_features, estimator)\u001B[0m\n\u001B[1;32m    617\u001B[0m             \u001B[0;31m# If input is 1D raise error\u001B[0m\u001B[0;34m\u001B[0m\u001B[0;34m\u001B[0m\u001B[0;34m\u001B[0m\u001B[0m\n\u001B[1;32m    618\u001B[0m             \u001B[0;32mif\u001B[0m \u001B[0marray\u001B[0m\u001B[0;34m.\u001B[0m\u001B[0mndim\u001B[0m \u001B[0;34m==\u001B[0m \u001B[0;36m1\u001B[0m\u001B[0;34m:\u001B[0m\u001B[0;34m\u001B[0m\u001B[0;34m\u001B[0m\u001B[0m\n\u001B[0;32m--> 619\u001B[0;31m                 raise ValueError(\n\u001B[0m\u001B[1;32m    620\u001B[0m                     \u001B[0;34m\"Expected 2D array, got 1D array instead:\\narray={}.\\n\"\u001B[0m\u001B[0;34m\u001B[0m\u001B[0;34m\u001B[0m\u001B[0m\n\u001B[1;32m    621\u001B[0m                     \u001B[0;34m\"Reshape your data either using array.reshape(-1, 1) if \"\u001B[0m\u001B[0;34m\u001B[0m\u001B[0;34m\u001B[0m\u001B[0m\n",
      "\u001B[0;31mValueError\u001B[0m: Expected 2D array, got 1D array instead:\narray=[ 9.7  9.4  9.8 ... 10.2  9.   9. ].\nReshape your data either using array.reshape(-1, 1) if your data has a single feature or array.reshape(1, -1) if it contains a single sample."
     ]
    }
   ],
   "source": [
    "from sklearn.linear_model import LinearRegression #Import\n",
    "from sklearn.model_selection import train_test_split\n",
    "\n",
    "X = winequality_df['alcohol']\n",
    "Y = winequality_df['quality']\n",
    "X_train, X_test, Y_train, Y_test = train_test_split(X,Y,test_size=0.3,random_state=1)\n",
    "\n",
    "model = LinearRegression()                        #Instantiate\n",
    "model.fit(X_train,Y_train)\n",
    "i = model.intercept_.round(2)\n",
    "c = model.coef_.round(2)\n",
    "winequality_df.plot(kind = 'scatter', x = 'alcohol', y = 'quality')\n",
    "x = np.linspace(7.5,15.5,100)\n",
    "plt.plot(x,c*x+i,color='red')"
   ],
   "metadata": {
    "collapsed": false,
    "pycharm": {
     "name": "#%%\n"
    }
   }
  }
 ],
 "metadata": {
  "kernelspec": {
   "display_name": "Python 3",
   "language": "python",
   "name": "python3"
  },
  "language_info": {
   "codemirror_mode": {
    "name": "ipython",
    "version": 3
   },
   "file_extension": ".py",
   "mimetype": "text/x-python",
   "name": "python",
   "nbconvert_exporter": "python",
   "pygments_lexer": "ipython3",
   "version": "3.8.2"
  }
 },
 "nbformat": 4,
 "nbformat_minor": 4
}